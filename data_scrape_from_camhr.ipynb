{
 "cells": [
  {
   "cell_type": "code",
   "execution_count": null,
   "metadata": {},
   "outputs": [],
   "source": [
    "import requests\n",
    "from bs4 import BeautifulSoup\n",
    "import pandas as pd\n",
    "from tqdm import tqdm_notebook\n",
    "\n",
    "#resp = requests.get('https://www.camhr.com/pages/jobs/index.jsp')\n",
    "#soup = BeautifulSoup(resp.content, 'html.parser')\n",
    "#pageAmount = [a for a in soup.body.find_all('a') if a.text == 'Last Page'][0]['onclick'].split('\\'')[1]\n",
    "#\n",
    "#allJobs = []\n",
    "#\n",
    "#print([{\n",
    "#  'Job Title': job.find('div', attrs={'class': 'jobtitlelist'}).a.text,\n",
    "#  } for job in soup.find('table', attrs={'class': 'main-job-list-tab'}).find_all('tr')[1:]])\n",
    "#"
   ]
  },
  {
   "cell_type": "code",
   "execution_count": null,
   "metadata": {},
   "outputs": [],
   "source": [
    "def parse_url ( url ) :\n",
    "    response = requests.get ( url )\n",
    "    content =response.content\n",
    "    parsed_response = BeautifulSoup ( content , \"lxml\" )\n",
    "    return parsed_response"
   ]
  },
  {
   "cell_type": "code",
   "execution_count": null,
   "metadata": {},
   "outputs": [],
   "source": [
    "def extract_post_data ( post_url ) :\n",
    "    soup_post = parse_url ( post_url )\n",
    "    \n",
    "    job_title = soup_post.find (\"span\",{\"class\":\"job-name-span text-break\"}).text\n",
    "    level = soup_post.find(\"th\",{\"class\":\"column\"}).text\n",
    "    \n",
    "    data = {\n",
    "        \"Web-scraper-start-url\" : post_url,\n",
    "        \"Job title\" : job_title ,\n",
    "        \"Job Link\" : soup_post,\n",
    "        \"Position\" : job_title,\n",
    "        \"level\" : level\n",
    "    }\n",
    "    \n",
    "    return data"
   ]
  },
  {
   "cell_type": "code",
   "execution_count": null,
   "metadata": {},
   "outputs": [],
   "source": [
    "url = \"https://www.camhr.com/a/job?page=81&param=%7B%22page%22%3A81,%22size%22%3A50%7D\"\n",
    "base_url = \"https://www.camhr.com/a/job?page=1&param=%7B%22page%22%3A1,%22size%22%3A50%7D\"\n",
    "\n",
    "next_button =\"\"\n",
    "posts_data = []\n",
    "count = 1\n",
    "\n",
    "while next_button is not None :\n",
    "    print (f\" page number : {count}\")\n",
    "    \n",
    "    soup = parse_url ( url )\n",
    "    section = soup.find(\"div\", {\"class\":\"jobs-list\"})\n",
    "    posts = section.find_all(\"div\",{\"class\" : \"job-item cursor-pointer\"})   \n",
    "     \n",
    "    for post in tqdm_notebook(posts, leave=False) :\n",
    "        uri = post.find (\"div\").find(\"a\"  )[\"href\"]\n",
    "        post_url = base_url + uri\n",
    "        data = extract_post_data(post_url)\n",
    "        posts_data.append(data)\n",
    "        \n",
    "    #next_button = soup.find (\"div\",{\"class\":\"el-pagination\"}).find(\"button\",{\"class\":\"btn-next\"})\n",
    "    #if next_button is not None :\n",
    "    #    url = base_url + next_button.find(\"a\")[\"href\"]\n",
    "    #    count += 1"
   ]
  },
  {
   "cell_type": "code",
   "execution_count": null,
   "metadata": {},
   "outputs": [],
   "source": [
    "soup_post = parse_url (\"https://www.camhr.com/a/job/10517843?title=Electrical%20Design%20Engineer%20%28Junior%20to%20Mid-Level%29\")"
   ]
  },
  {
   "cell_type": "code",
   "execution_count": null,
   "metadata": {},
   "outputs": [],
   "source": [
    "df_posts = pd.DataFrame(posts_data)"
   ]
  },
  {
   "cell_type": "code",
   "execution_count": null,
   "metadata": {},
   "outputs": [],
   "source": [
    "df_posts"
   ]
  }
 ],
 "metadata": {
  "kernelspec": {
   "display_name": "Python 3.9.7",
   "language": "python",
   "name": "python3"
  },
  "language_info": {
   "codemirror_mode": {
    "name": "ipython",
    "version": 3
   },
   "file_extension": ".py",
   "mimetype": "text/x-python",
   "name": "python",
   "nbconvert_exporter": "python",
   "pygments_lexer": "ipython3",
   "version": "3.9.7"
  },
  "orig_nbformat": 4,
  "vscode": {
   "interpreter": {
    "hash": "263930470851f494f0ed2879c35b57985588df20f9e529b86e97dd5eb9ddc466"
   }
  }
 },
 "nbformat": 4,
 "nbformat_minor": 2
}
